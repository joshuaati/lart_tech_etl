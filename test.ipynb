{
 "cells": [
  {
   "cell_type": "code",
   "execution_count": 2,
   "metadata": {},
   "outputs": [],
   "source": [
    "import json"
   ]
  },
  {
   "cell_type": "code",
   "execution_count": 25,
   "metadata": {},
   "outputs": [
    {
     "name": "stdout",
     "output_type": "stream",
     "text": [
      "{'firstName': 'Reece', 'lastName': 'Wilson', 'age': 20, 'iban': 'GB95SWFW76559273696664', 'credit_card_number': '376608579872611', 'credit_card_security_code': '136', 'credit_card_start_date': '03/18', 'credit_card_end_date': '06/28', 'address_main': 'Flat 44 Holt mountains', 'address_city': 'Lake Debra', 'address_postcode': 'N8 7UE', 'debt': {'amount': '15720.55', 'time_period_years': 4}} 15720.55 4\n",
      "{'firstName': 'Howard', 'lastName': 'Faulkner', 'age': 40, 'iban': 'GB48YQIO39664952051753', 'credit_card_number': '4119620211132845', 'credit_card_security_code': '785', 'credit_card_start_date': '08/22', 'credit_card_end_date': '11/26', 'address_main': '9 Hugh ports', 'address_city': 'North Kenneth', 'address_postcode': 'SK20 1HE', 'debt': {'amount': '16741.78', 'time_period_years': 4}} 16741.78 4\n",
      "{'firstName': 'Rosie', 'lastName': 'Barrett', 'age': 33, 'iban': 'GB79BMEQ32245667613237', 'credit_card_number': '4621673230586500', 'credit_card_security_code': '614', 'credit_card_start_date': '02/19', 'credit_card_end_date': '10/28', 'address_main': 'Flat 19 Pearce ramp', 'address_city': 'Port Sara', 'address_postcode': 'G48 0GA', 'debt': {'amount': '655.27', 'time_period_years': 2}} 655.27 2\n",
      "{'firstName': 'Damien', 'lastName': 'Burrows', 'age': 88, 'iban': 'GB19HUGX04599836073188', 'credit_card_number': '4086773379065494', 'credit_card_security_code': '722', 'credit_card_start_date': '07/17', 'credit_card_end_date': '11/22', 'address_main': 'Flat 7 Jackson forks', 'address_city': 'East Sheila', 'address_postcode': 'ML1B 0YQ', 'debt': {'amount': '1179.44', 'time_period_years': 5}} 1179.44 5\n",
      "{'firstName': 'Sian', 'lastName': 'Kaur', 'age': 53, 'iban': 'GB04BFEQ53990627822419', 'credit_card_number': '30274541729856', 'credit_card_security_code': '465', 'credit_card_start_date': '07/19', 'credit_card_end_date': '08/28', 'address_main': '5 Louis center', 'address_city': 'Conorchester', 'address_postcode': 'DN1R 7WE', 'debt': {'amount': '9501.06', 'time_period_years': 3}} 9501.06 3\n",
      "{'firstName': 'Joyce', 'lastName': 'Smart', 'age': 22, 'iban': 'GB68UWTA09711820964052', 'credit_card_number': '2285057186568038', 'credit_card_security_code': '817', 'credit_card_start_date': '01/21', 'credit_card_end_date': '07/31', 'address_main': 'Flat 30 Terry fort', 'address_city': 'Wellsstad', 'address_postcode': 'B39 4UN', 'debt': {'amount': '10455.84', 'time_period_years': 4}} 10455.84 4\n",
      "{'firstName': 'Hollie', 'lastName': 'Moore', 'age': 50, 'iban': 'GB06PPDJ19597467856097', 'credit_card_number': '342447520477191', 'credit_card_security_code': '253', 'credit_card_start_date': '08/15', 'credit_card_end_date': '07/29', 'address_main': 'Studio 74 Joanna lakes', 'address_city': 'Damianchester', 'address_postcode': 'G2 0XH', 'debt': {'amount': '18981.65', 'time_period_years': 5}} 18981.65 5\n",
      "{'firstName': 'Guy', 'lastName': 'Begum', 'age': 57, 'iban': 'GB36GHHJ25272581629901', 'credit_card_number': '344179954424047', 'credit_card_security_code': '1957', 'credit_card_start_date': '05/15', 'credit_card_end_date': '09/30', 'address_main': 'Studio 08 Nicole parkway', 'address_city': 'Lake Shannon', 'address_postcode': 'W4 4HT', 'debt': {'amount': '4974.50', 'time_period_years': 0}} 4974.50 0\n",
      "{'firstName': 'Kathleen', 'lastName': 'Phillips', 'age': 81, 'iban': 'GB90AWLM17124648945722', 'credit_card_number': '3536810652822692', 'credit_card_security_code': '134', 'credit_card_start_date': '11/18', 'credit_card_end_date': '10/23', 'address_main': 'Studio 4 Payne orchard', 'address_city': 'Port Frederick', 'address_postcode': 'E7 9LP', 'debt': {'amount': '6454.94', 'time_period_years': 1}} 6454.94 1\n",
      "{'firstName': 'Jake', 'lastName': 'Cox', 'age': 82, 'iban': 'GB47SBKM42112069730753', 'credit_card_number': '3502283622529328', 'credit_card_security_code': '6561', 'credit_card_start_date': '08/15', 'credit_card_end_date': '07/27', 'address_main': '94 Taylor glen', 'address_city': 'Allenburgh', 'address_postcode': 'IP0 0RZ', 'debt': {'amount': '3135.18', 'time_period_years': 3}} 3135.18 3\n",
      "{'firstName': 'Eric', 'lastName': 'Wilson', 'age': 80, 'iban': 'GB84QFAH29215927020021', 'credit_card_number': '4870921684790152150', 'credit_card_security_code': '723', 'credit_card_start_date': '07/15', 'credit_card_end_date': '08/31', 'address_main': '336 Martyn locks', 'address_city': 'Albertland', 'address_postcode': 'B05 6DW', 'debt': {'amount': '13063.74', 'time_period_years': 3}} 13063.74 3\n",
      "{'firstName': 'Lee', 'lastName': 'Archer', 'age': 32, 'iban': 'GB56WASL40430021194498', 'credit_card_number': '349729466655713', 'credit_card_security_code': '257', 'credit_card_start_date': '10/15', 'credit_card_end_date': '06/28', 'address_main': '41 Thompson run', 'address_city': 'Abbieshire', 'address_postcode': 'KY8 5WD', 'debt': {'amount': '10997.91', 'time_period_years': 4}} 10997.91 4\n",
      "{'firstName': 'June', 'lastName': 'Lamb', 'age': 27, 'iban': 'GB11KUMD99306109296813', 'credit_card_number': '4081445113586833725', 'credit_card_security_code': '222', 'credit_card_start_date': '10/21', 'credit_card_end_date': '09/27', 'address_main': 'Flat 5 Harris springs', 'address_city': 'Josephinebury', 'address_postcode': 'G05 9JG', 'debt': {'amount': '16867.00', 'time_period_years': 0}} 16867.00 0\n",
      "{'firstName': 'Bryan', 'lastName': 'Daniels', 'age': 74, 'iban': 'GB94DVZQ29112367366343', 'credit_card_number': '4095277303198172959', 'credit_card_security_code': '793', 'credit_card_start_date': '08/17', 'credit_card_end_date': '07/24', 'address_main': '23 Lloyd land', 'address_city': 'Kimberleyside', 'address_postcode': 'E9 1TP', 'debt': {'amount': '5679.12', 'time_period_years': 3}} 5679.12 3\n",
      "{'firstName': 'Martin', 'lastName': 'Smith', 'age': 31, 'iban': 'GB28PJAZ39162065620742', 'credit_card_number': '503893411903', 'credit_card_security_code': '075', 'credit_card_start_date': '05/17', 'credit_card_end_date': '10/19', 'address_main': '65 Turner tunnel', 'address_city': 'South Frankfurt', 'address_postcode': 'W73 0YA', 'debt': {'amount': '6344.71', 'time_period_years': 4}} 6344.71 4\n",
      "{'firstName': 'Iain', 'lastName': 'Dixon', 'age': 64, 'iban': 'GB15PBVM12407532454240', 'credit_card_number': '4900710605483038', 'credit_card_security_code': '978', 'credit_card_start_date': '02/22', 'credit_card_end_date': '05/28', 'address_main': 'Studio 88h Abdul park', 'address_city': 'South Clifford', 'address_postcode': 'G2J 0FH', 'debt': {'amount': '19262.40', 'time_period_years': 5}} 19262.40 5\n",
      "{'firstName': 'Charles', 'lastName': 'Brennan', 'age': 50, 'iban': 'GB34GGZU36993768623434', 'credit_card_number': '3533523750906589', 'credit_card_security_code': '699', 'credit_card_start_date': '07/19', 'credit_card_end_date': '05/28', 'address_main': '2 Burton land', 'address_city': 'Kerryside', 'address_postcode': 'HS2 0BB', 'debt': {'amount': '13908.20', 'time_period_years': 2}} 13908.20 2\n",
      "{'firstName': 'Marcus', 'lastName': 'Walters', 'age': 66, 'iban': 'GB46QOFD82551977316431', 'credit_card_number': '30097020671806', 'credit_card_security_code': '449', 'credit_card_start_date': '01/22', 'credit_card_end_date': '10/27', 'address_main': '131 Melanie dam', 'address_city': 'Glennchester', 'address_postcode': 'HU9P 6YR', 'debt': {'amount': '1702.13', 'time_period_years': 3}} 1702.13 3\n",
      "{'firstName': 'Brandon', 'lastName': 'Sharpe', 'age': 30, 'iban': 'GB50XKHU64923753199384', 'credit_card_number': '676277220940', 'credit_card_security_code': '274', 'credit_card_start_date': '03/20', 'credit_card_end_date': '10/21', 'address_main': '41 Rice summit', 'address_city': 'North Alisonhaven', 'address_postcode': 'DE99 7YZ', 'debt': {'amount': '12163.64', 'time_period_years': 2}} 12163.64 2\n",
      "{'firstName': 'Kenneth', 'lastName': 'Andrews', 'age': 89, 'iban': 'GB77AJDA54068814499363', 'credit_card_number': '4612881692998', 'credit_card_security_code': '672', 'credit_card_start_date': '03/16', 'credit_card_end_date': '04/29', 'address_main': '802 David bridge', 'address_city': 'Petermouth', 'address_postcode': 'DE9 0HS', 'debt': {'amount': '2981.53', 'time_period_years': 2}} 2981.53 2\n",
      "{'firstName': 'Thomas', 'lastName': 'Martin', 'age': 72, 'iban': 'GB22LWWP65202276503124', 'credit_card_number': '213178304158402', 'credit_card_security_code': '022', 'credit_card_start_date': '10/15', 'credit_card_end_date': '12/17', 'address_main': '5 Francesca neck', 'address_city': 'Lake Kimberley', 'address_postcode': 'E9H 5BL', 'debt': {'amount': '8715.35', 'time_period_years': 0}} 8715.35 0\n",
      "{'firstName': 'Louise', 'lastName': 'Wade', 'age': 50, 'iban': 'GB22LANL26382813507747', 'credit_card_number': '3527106210544485', 'credit_card_security_code': '268', 'credit_card_start_date': '03/14', 'credit_card_end_date': '06/15', 'address_main': '317 Samantha way', 'address_city': 'Prestonburgh', 'address_postcode': 'AB1P 2EX', 'debt': {'amount': '10668.51', 'time_period_years': 1}} 10668.51 1\n",
      "{'firstName': 'Carol', 'lastName': 'Martin', 'age': 56, 'iban': 'GB44AJLH42528023115273', 'credit_card_number': '3581983652991751', 'credit_card_security_code': '074', 'credit_card_start_date': '01/17', 'credit_card_end_date': '06/27', 'address_main': '3 Baker lights', 'address_city': 'North Elliott', 'address_postcode': 'E61 2LW', 'debt': {'amount': '9050.54', 'time_period_years': 5}} 9050.54 5\n",
      "{'firstName': 'Jordan', 'lastName': 'Humphries', 'age': 69, 'iban': 'GB19KTRY27757841641070', 'credit_card_number': '379146305008314', 'credit_card_security_code': '051', 'credit_card_start_date': '08/15', 'credit_card_end_date': '04/19', 'address_main': '347 Williams mills', 'address_city': 'Daymouth', 'address_postcode': 'S58 9YY', 'debt': {'amount': '10415.48', 'time_period_years': 3}} 10415.48 3\n",
      "{'firstName': 'Robert', 'lastName': 'Smith', 'age': 54, 'iban': 'GB71ULUW13745591810757', 'credit_card_number': '38170765233231', 'credit_card_security_code': '009', 'credit_card_start_date': '12/18', 'credit_card_end_date': '11/31', 'address_main': 'Flat 8 Adrian prairie', 'address_city': 'New Kathleen', 'address_postcode': 'S9J 9RW', 'debt': {'amount': '19784.27', 'time_period_years': 0}} 19784.27 0\n",
      "{'firstName': 'Bethan', 'lastName': 'Nicholls', 'age': 81, 'iban': 'GB12YSGJ20795118448665', 'credit_card_number': '4199372069069538', 'credit_card_security_code': '001', 'credit_card_start_date': '11/13', 'credit_card_end_date': '11/18', 'address_main': 'Flat 89 Woods trail', 'address_city': 'Lake Jason', 'address_postcode': 'JE0A 4WZ', 'debt': {'amount': '14503.96', 'time_period_years': 3}} 14503.96 3\n",
      "{'firstName': 'Damian', 'lastName': 'Hughes', 'age': 74, 'iban': 'GB10ADIY20640488241867', 'credit_card_number': '4023708546585624', 'credit_card_security_code': '169', 'credit_card_start_date': '07/16', 'credit_card_end_date': '10/16', 'address_main': 'Flat 23 Walker streets', 'address_city': 'East Barryfurt', 'address_postcode': 'DT89 8BP', 'debt': {'amount': '16976.06', 'time_period_years': 2}} 16976.06 2\n",
      "{'firstName': 'Allan', 'lastName': 'Martin', 'age': 27, 'iban': 'GB16YWPL71311763688601', 'credit_card_number': '3506309493728776', 'credit_card_security_code': '950', 'credit_card_start_date': '01/15', 'credit_card_end_date': '11/26', 'address_main': '1 Pamela forge', 'address_city': 'Port Elliot', 'address_postcode': 'S8A 0TB', 'debt': {'amount': '14742.50', 'time_period_years': 0}} 14742.50 0\n",
      "{'firstName': 'Julia', 'lastName': 'Burton', 'age': 80, 'iban': 'GB30GQRI65484653864160', 'credit_card_number': '2383371071544918', 'credit_card_security_code': '171', 'credit_card_start_date': '02/22', 'credit_card_end_date': '03/28', 'address_main': '50 Griffiths villages', 'address_city': 'Powellville', 'address_postcode': 'CF3 2XQ', 'debt': {'amount': '19787.65', 'time_period_years': 1}} 19787.65 1\n",
      "{'firstName': 'Donna', 'lastName': 'Stokes', 'age': 43, 'iban': 'GB07FXTB67132202447160', 'credit_card_number': '4253976206909969', 'credit_card_security_code': '367', 'credit_card_start_date': '05/22', 'credit_card_end_date': '07/23', 'address_main': '4 Jones curve', 'address_city': 'Gibsonshire', 'address_postcode': 'WN57 1BU', 'debt': {'amount': '17102.54', 'time_period_years': 1}} 17102.54 1\n",
      "{'firstName': 'Oliver', 'lastName': 'Booth', 'age': 90, 'iban': 'GB63TFXG11211188965952', 'credit_card_number': '213114318221464', 'credit_card_security_code': '910', 'credit_card_start_date': '09/20', 'credit_card_end_date': '10/20', 'address_main': '76 Alexander islands', 'address_city': 'New Philip', 'address_postcode': 'GY43 9FG', 'debt': {'amount': '16171.81', 'time_period_years': 5}} 16171.81 5\n",
      "{'firstName': 'Ricky', 'lastName': 'Cameron', 'age': 58, 'iban': 'GB67GEVV75666241823635', 'credit_card_number': '4524081850262962074', 'credit_card_security_code': '009', 'credit_card_start_date': '10/22', 'credit_card_end_date': '09/30', 'address_main': 'Studio 0 Carter island', 'address_city': 'Caroleview', 'address_postcode': 'HP32 1NT', 'debt': {'amount': '9790.24', 'time_period_years': 0}} 9790.24 0\n"
     ]
    }
   ],
   "source": [
    "with open('data/user_data.json') as json_file:\n",
    "        finance_info = json.load(json_file)\n",
    "        \n",
    "        debts = []\n",
    "        for item in finance_info:\n",
    "                if \"debt\" in item:\n",
    "                        debts.append(item)\n",
    "        for i in debts:\n",
    "                if len(i['debt']) == 2:\n",
    "                        print(i, i['debt']['amount'], i['debt']['time_period_years'])\n",
    "                # print(i['debt'], len(i['debt']))   "
   ]
  },
  {
   "cell_type": "code",
   "execution_count": null,
   "metadata": {},
   "outputs": [],
   "source": []
  }
 ],
 "metadata": {
  "kernelspec": {
   "display_name": "Python 3.9.13 64-bit",
   "language": "python",
   "name": "python3"
  },
  "language_info": {
   "codemirror_mode": {
    "name": "ipython",
    "version": 3
   },
   "file_extension": ".py",
   "mimetype": "text/x-python",
   "name": "python",
   "nbconvert_exporter": "python",
   "pygments_lexer": "ipython3",
   "version": "3.9.13"
  },
  "orig_nbformat": 4,
  "vscode": {
   "interpreter": {
    "hash": "444d05d3491f93f5b17412671d068b195a3e37c936f545933611371140ad11e9"
   }
  }
 },
 "nbformat": 4,
 "nbformat_minor": 2
}
